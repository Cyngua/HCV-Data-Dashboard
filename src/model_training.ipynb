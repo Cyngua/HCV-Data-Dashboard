{
 "cells": [
  {
   "cell_type": "markdown",
   "metadata": {},
   "source": [
    "# Training Data"
   ]
  },
  {
   "cell_type": "markdown",
   "metadata": {},
   "source": [
    "## Model Development"
   ]
  },
  {
   "cell_type": "code",
   "execution_count": 76,
   "metadata": {},
   "outputs": [],
   "source": [
    "import pandas as pd\n",
    "import matplotlib.pyplot as plt"
   ]
  },
  {
   "cell_type": "code",
   "execution_count": 71,
   "metadata": {},
   "outputs": [],
   "source": [
    "from sklearn.metrics import accuracy_score, classification_report\n",
    "from sklearn.metrics import roc_curve\n",
    "from sklearn.metrics import roc_auc_score\n",
    "from sklearn.metrics import auc, precision_recall_curve\n",
    "from sklearn.calibration import calibration_curve\n",
    "from sklearn.model_selection import train_test_split\n",
    "from sklearn.metrics import confusion_matrix, ConfusionMatrixDisplay\n",
    "\n",
    "import xgboost as xgb\n",
    "from sklearn.linear_model import LogisticRegression\n",
    "from sklearn.ensemble import RandomForestClassifier"
   ]
  },
  {
   "cell_type": "code",
   "execution_count": 36,
   "metadata": {},
   "outputs": [],
   "source": [
    "df = pd.read_csv(\"../data/processed_hcvdat.csv\")"
   ]
  },
  {
   "cell_type": "code",
   "execution_count": 37,
   "metadata": {},
   "outputs": [
    {
     "data": {
      "text/html": [
       "<div>\n",
       "<style scoped>\n",
       "    .dataframe tbody tr th:only-of-type {\n",
       "        vertical-align: middle;\n",
       "    }\n",
       "\n",
       "    .dataframe tbody tr th {\n",
       "        vertical-align: top;\n",
       "    }\n",
       "\n",
       "    .dataframe thead th {\n",
       "        text-align: right;\n",
       "    }\n",
       "</style>\n",
       "<table border=\"1\" class=\"dataframe\">\n",
       "  <thead>\n",
       "    <tr style=\"text-align: right;\">\n",
       "      <th></th>\n",
       "      <th>Unnamed: 0</th>\n",
       "      <th>Age</th>\n",
       "      <th>Sex</th>\n",
       "      <th>ALB</th>\n",
       "      <th>ALP</th>\n",
       "      <th>AST</th>\n",
       "      <th>BIL</th>\n",
       "      <th>CHE</th>\n",
       "      <th>CHOL</th>\n",
       "      <th>CREA</th>\n",
       "      <th>CGT</th>\n",
       "      <th>PROT</th>\n",
       "      <th>ALT</th>\n",
       "      <th>Category</th>\n",
       "    </tr>\n",
       "  </thead>\n",
       "  <tbody>\n",
       "    <tr>\n",
       "      <th>0</th>\n",
       "      <td>0</td>\n",
       "      <td>32</td>\n",
       "      <td>1</td>\n",
       "      <td>38.5</td>\n",
       "      <td>52.5</td>\n",
       "      <td>22.1</td>\n",
       "      <td>7.5</td>\n",
       "      <td>6.93</td>\n",
       "      <td>3.23</td>\n",
       "      <td>106.0</td>\n",
       "      <td>12.1</td>\n",
       "      <td>69.0</td>\n",
       "      <td>7.7</td>\n",
       "      <td>0</td>\n",
       "    </tr>\n",
       "    <tr>\n",
       "      <th>1</th>\n",
       "      <td>1</td>\n",
       "      <td>32</td>\n",
       "      <td>1</td>\n",
       "      <td>38.5</td>\n",
       "      <td>70.3</td>\n",
       "      <td>24.7</td>\n",
       "      <td>3.9</td>\n",
       "      <td>11.17</td>\n",
       "      <td>4.80</td>\n",
       "      <td>74.0</td>\n",
       "      <td>15.6</td>\n",
       "      <td>76.5</td>\n",
       "      <td>18.0</td>\n",
       "      <td>0</td>\n",
       "    </tr>\n",
       "    <tr>\n",
       "      <th>2</th>\n",
       "      <td>2</td>\n",
       "      <td>32</td>\n",
       "      <td>1</td>\n",
       "      <td>46.9</td>\n",
       "      <td>74.7</td>\n",
       "      <td>52.6</td>\n",
       "      <td>6.1</td>\n",
       "      <td>8.84</td>\n",
       "      <td>5.20</td>\n",
       "      <td>86.0</td>\n",
       "      <td>33.2</td>\n",
       "      <td>79.3</td>\n",
       "      <td>36.2</td>\n",
       "      <td>0</td>\n",
       "    </tr>\n",
       "    <tr>\n",
       "      <th>3</th>\n",
       "      <td>3</td>\n",
       "      <td>32</td>\n",
       "      <td>1</td>\n",
       "      <td>43.2</td>\n",
       "      <td>52.0</td>\n",
       "      <td>22.6</td>\n",
       "      <td>18.9</td>\n",
       "      <td>7.33</td>\n",
       "      <td>4.74</td>\n",
       "      <td>80.0</td>\n",
       "      <td>33.8</td>\n",
       "      <td>75.7</td>\n",
       "      <td>30.6</td>\n",
       "      <td>0</td>\n",
       "    </tr>\n",
       "    <tr>\n",
       "      <th>4</th>\n",
       "      <td>4</td>\n",
       "      <td>32</td>\n",
       "      <td>1</td>\n",
       "      <td>39.2</td>\n",
       "      <td>74.1</td>\n",
       "      <td>24.8</td>\n",
       "      <td>9.6</td>\n",
       "      <td>9.15</td>\n",
       "      <td>4.32</td>\n",
       "      <td>76.0</td>\n",
       "      <td>29.9</td>\n",
       "      <td>68.7</td>\n",
       "      <td>32.6</td>\n",
       "      <td>0</td>\n",
       "    </tr>\n",
       "  </tbody>\n",
       "</table>\n",
       "</div>"
      ],
      "text/plain": [
       "   Unnamed: 0  Age  Sex   ALB   ALP   AST   BIL    CHE  CHOL   CREA   CGT  \\\n",
       "0           0   32    1  38.5  52.5  22.1   7.5   6.93  3.23  106.0  12.1   \n",
       "1           1   32    1  38.5  70.3  24.7   3.9  11.17  4.80   74.0  15.6   \n",
       "2           2   32    1  46.9  74.7  52.6   6.1   8.84  5.20   86.0  33.2   \n",
       "3           3   32    1  43.2  52.0  22.6  18.9   7.33  4.74   80.0  33.8   \n",
       "4           4   32    1  39.2  74.1  24.8   9.6   9.15  4.32   76.0  29.9   \n",
       "\n",
       "   PROT   ALT  Category  \n",
       "0  69.0   7.7         0  \n",
       "1  76.5  18.0         0  \n",
       "2  79.3  36.2         0  \n",
       "3  75.7  30.6         0  \n",
       "4  68.7  32.6         0  "
      ]
     },
     "execution_count": 37,
     "metadata": {},
     "output_type": "execute_result"
    }
   ],
   "source": [
    "df.head()"
   ]
  },
  {
   "cell_type": "code",
   "execution_count": 38,
   "metadata": {},
   "outputs": [
    {
     "data": {
      "text/html": [
       "<div>\n",
       "<style scoped>\n",
       "    .dataframe tbody tr th:only-of-type {\n",
       "        vertical-align: middle;\n",
       "    }\n",
       "\n",
       "    .dataframe tbody tr th {\n",
       "        vertical-align: top;\n",
       "    }\n",
       "\n",
       "    .dataframe thead th {\n",
       "        text-align: right;\n",
       "    }\n",
       "</style>\n",
       "<table border=\"1\" class=\"dataframe\">\n",
       "  <thead>\n",
       "    <tr style=\"text-align: right;\">\n",
       "      <th></th>\n",
       "      <th>Age</th>\n",
       "      <th>Sex</th>\n",
       "      <th>ALB</th>\n",
       "      <th>ALP</th>\n",
       "      <th>AST</th>\n",
       "      <th>BIL</th>\n",
       "      <th>CHE</th>\n",
       "      <th>CHOL</th>\n",
       "      <th>CREA</th>\n",
       "      <th>CGT</th>\n",
       "      <th>PROT</th>\n",
       "      <th>ALT</th>\n",
       "      <th>Category</th>\n",
       "    </tr>\n",
       "  </thead>\n",
       "  <tbody>\n",
       "    <tr>\n",
       "      <th>0</th>\n",
       "      <td>32</td>\n",
       "      <td>1</td>\n",
       "      <td>38.5</td>\n",
       "      <td>52.5</td>\n",
       "      <td>22.1</td>\n",
       "      <td>7.5</td>\n",
       "      <td>6.93</td>\n",
       "      <td>3.23</td>\n",
       "      <td>106.0</td>\n",
       "      <td>12.1</td>\n",
       "      <td>69.0</td>\n",
       "      <td>7.7</td>\n",
       "      <td>0</td>\n",
       "    </tr>\n",
       "    <tr>\n",
       "      <th>1</th>\n",
       "      <td>32</td>\n",
       "      <td>1</td>\n",
       "      <td>38.5</td>\n",
       "      <td>70.3</td>\n",
       "      <td>24.7</td>\n",
       "      <td>3.9</td>\n",
       "      <td>11.17</td>\n",
       "      <td>4.80</td>\n",
       "      <td>74.0</td>\n",
       "      <td>15.6</td>\n",
       "      <td>76.5</td>\n",
       "      <td>18.0</td>\n",
       "      <td>0</td>\n",
       "    </tr>\n",
       "    <tr>\n",
       "      <th>2</th>\n",
       "      <td>32</td>\n",
       "      <td>1</td>\n",
       "      <td>46.9</td>\n",
       "      <td>74.7</td>\n",
       "      <td>52.6</td>\n",
       "      <td>6.1</td>\n",
       "      <td>8.84</td>\n",
       "      <td>5.20</td>\n",
       "      <td>86.0</td>\n",
       "      <td>33.2</td>\n",
       "      <td>79.3</td>\n",
       "      <td>36.2</td>\n",
       "      <td>0</td>\n",
       "    </tr>\n",
       "    <tr>\n",
       "      <th>3</th>\n",
       "      <td>32</td>\n",
       "      <td>1</td>\n",
       "      <td>43.2</td>\n",
       "      <td>52.0</td>\n",
       "      <td>22.6</td>\n",
       "      <td>18.9</td>\n",
       "      <td>7.33</td>\n",
       "      <td>4.74</td>\n",
       "      <td>80.0</td>\n",
       "      <td>33.8</td>\n",
       "      <td>75.7</td>\n",
       "      <td>30.6</td>\n",
       "      <td>0</td>\n",
       "    </tr>\n",
       "    <tr>\n",
       "      <th>4</th>\n",
       "      <td>32</td>\n",
       "      <td>1</td>\n",
       "      <td>39.2</td>\n",
       "      <td>74.1</td>\n",
       "      <td>24.8</td>\n",
       "      <td>9.6</td>\n",
       "      <td>9.15</td>\n",
       "      <td>4.32</td>\n",
       "      <td>76.0</td>\n",
       "      <td>29.9</td>\n",
       "      <td>68.7</td>\n",
       "      <td>32.6</td>\n",
       "      <td>0</td>\n",
       "    </tr>\n",
       "  </tbody>\n",
       "</table>\n",
       "</div>"
      ],
      "text/plain": [
       "   Age  Sex   ALB   ALP   AST   BIL    CHE  CHOL   CREA   CGT  PROT   ALT  \\\n",
       "0   32    1  38.5  52.5  22.1   7.5   6.93  3.23  106.0  12.1  69.0   7.7   \n",
       "1   32    1  38.5  70.3  24.7   3.9  11.17  4.80   74.0  15.6  76.5  18.0   \n",
       "2   32    1  46.9  74.7  52.6   6.1   8.84  5.20   86.0  33.2  79.3  36.2   \n",
       "3   32    1  43.2  52.0  22.6  18.9   7.33  4.74   80.0  33.8  75.7  30.6   \n",
       "4   32    1  39.2  74.1  24.8   9.6   9.15  4.32   76.0  29.9  68.7  32.6   \n",
       "\n",
       "   Category  \n",
       "0         0  \n",
       "1         0  \n",
       "2         0  \n",
       "3         0  \n",
       "4         0  "
      ]
     },
     "execution_count": 38,
     "metadata": {},
     "output_type": "execute_result"
    }
   ],
   "source": [
    "df.drop(columns = ['Unnamed: 0'], inplace = True)\n",
    "df.head()"
   ]
  },
  {
   "cell_type": "code",
   "execution_count": 39,
   "metadata": {},
   "outputs": [],
   "source": [
    "y = df['Category']\n",
    "X = df.iloc[:, :-1]"
   ]
  },
  {
   "cell_type": "code",
   "execution_count": 60,
   "metadata": {},
   "outputs": [],
   "source": [
    "# train-test splitting\n",
    "X_train, X_test, y_train, y_test = train_test_split(X, y, test_size=0.3, random_state=42)"
   ]
  },
  {
   "cell_type": "code",
   "execution_count": 61,
   "metadata": {},
   "outputs": [],
   "source": [
    "# normalize dataset\n",
    "def normalize_columns(features):\n",
    "    return (features - features.mean()) / features.std()"
   ]
  },
  {
   "cell_type": "code",
   "execution_count": 62,
   "metadata": {},
   "outputs": [],
   "source": [
    "X_train.iloc[:, X_train.columns!='Sex'] = normalize_columns(X_train.iloc[:, X_train.columns!='Sex'])"
   ]
  },
  {
   "cell_type": "code",
   "execution_count": 63,
   "metadata": {},
   "outputs": [
    {
     "data": {
      "text/html": [
       "<div>\n",
       "<style scoped>\n",
       "    .dataframe tbody tr th:only-of-type {\n",
       "        vertical-align: middle;\n",
       "    }\n",
       "\n",
       "    .dataframe tbody tr th {\n",
       "        vertical-align: top;\n",
       "    }\n",
       "\n",
       "    .dataframe thead th {\n",
       "        text-align: right;\n",
       "    }\n",
       "</style>\n",
       "<table border=\"1\" class=\"dataframe\">\n",
       "  <thead>\n",
       "    <tr style=\"text-align: right;\">\n",
       "      <th></th>\n",
       "      <th>Age</th>\n",
       "      <th>Sex</th>\n",
       "      <th>ALB</th>\n",
       "      <th>ALP</th>\n",
       "      <th>AST</th>\n",
       "      <th>BIL</th>\n",
       "      <th>CHE</th>\n",
       "      <th>CHOL</th>\n",
       "      <th>CREA</th>\n",
       "      <th>CGT</th>\n",
       "      <th>PROT</th>\n",
       "      <th>ALT</th>\n",
       "    </tr>\n",
       "  </thead>\n",
       "  <tbody>\n",
       "    <tr>\n",
       "      <th>296</th>\n",
       "      <td>1.675426</td>\n",
       "      <td>1</td>\n",
       "      <td>0.483197</td>\n",
       "      <td>0.957839</td>\n",
       "      <td>-0.332392</td>\n",
       "      <td>0.051932</td>\n",
       "      <td>0.647577</td>\n",
       "      <td>2.013413</td>\n",
       "      <td>-0.072836</td>\n",
       "      <td>-0.375485</td>\n",
       "      <td>0.444943</td>\n",
       "      <td>-0.542276</td>\n",
       "    </tr>\n",
       "    <tr>\n",
       "      <th>554</th>\n",
       "      <td>-0.355107</td>\n",
       "      <td>1</td>\n",
       "      <td>1.255722</td>\n",
       "      <td>-1.872614</td>\n",
       "      <td>-0.116665</td>\n",
       "      <td>0.088394</td>\n",
       "      <td>0.375705</td>\n",
       "      <td>-1.175628</td>\n",
       "      <td>-0.012840</td>\n",
       "      <td>-0.198928</td>\n",
       "      <td>0.167230</td>\n",
       "      <td>0.493927</td>\n",
       "    </tr>\n",
       "    <tr>\n",
       "      <th>443</th>\n",
       "      <td>0.152526</td>\n",
       "      <td>0</td>\n",
       "      <td>-1.164856</td>\n",
       "      <td>-1.376700</td>\n",
       "      <td>-0.436159</td>\n",
       "      <td>-0.218932</td>\n",
       "      <td>-1.316465</td>\n",
       "      <td>0.414500</td>\n",
       "      <td>0.012872</td>\n",
       "      <td>-0.656581</td>\n",
       "      <td>-1.739728</td>\n",
       "      <td>-0.534019</td>\n",
       "    </tr>\n",
       "    <tr>\n",
       "      <th>301</th>\n",
       "      <td>1.776953</td>\n",
       "      <td>1</td>\n",
       "      <td>-0.443832</td>\n",
       "      <td>-1.007104</td>\n",
       "      <td>-0.214971</td>\n",
       "      <td>-0.255395</td>\n",
       "      <td>-0.519598</td>\n",
       "      <td>0.721983</td>\n",
       "      <td>-0.158544</td>\n",
       "      <td>-0.210544</td>\n",
       "      <td>-1.406473</td>\n",
       "      <td>-0.212012</td>\n",
       "    </tr>\n",
       "    <tr>\n",
       "      <th>247</th>\n",
       "      <td>0.761686</td>\n",
       "      <td>1</td>\n",
       "      <td>1.015381</td>\n",
       "      <td>0.213968</td>\n",
       "      <td>-0.296893</td>\n",
       "      <td>-0.286648</td>\n",
       "      <td>0.530390</td>\n",
       "      <td>-0.683655</td>\n",
       "      <td>0.012872</td>\n",
       "      <td>-0.164082</td>\n",
       "      <td>0.889282</td>\n",
       "      <td>-0.100548</td>\n",
       "    </tr>\n",
       "  </tbody>\n",
       "</table>\n",
       "</div>"
      ],
      "text/plain": [
       "          Age  Sex       ALB       ALP       AST       BIL       CHE  \\\n",
       "296  1.675426    1  0.483197  0.957839 -0.332392  0.051932  0.647577   \n",
       "554 -0.355107    1  1.255722 -1.872614 -0.116665  0.088394  0.375705   \n",
       "443  0.152526    0 -1.164856 -1.376700 -0.436159 -0.218932 -1.316465   \n",
       "301  1.776953    1 -0.443832 -1.007104 -0.214971 -0.255395 -0.519598   \n",
       "247  0.761686    1  1.015381  0.213968 -0.296893 -0.286648  0.530390   \n",
       "\n",
       "         CHOL      CREA       CGT      PROT       ALT  \n",
       "296  2.013413 -0.072836 -0.375485  0.444943 -0.542276  \n",
       "554 -1.175628 -0.012840 -0.198928  0.167230  0.493927  \n",
       "443  0.414500  0.012872 -0.656581 -1.739728 -0.534019  \n",
       "301  0.721983 -0.158544 -0.210544 -1.406473 -0.212012  \n",
       "247 -0.683655  0.012872 -0.164082  0.889282 -0.100548  "
      ]
     },
     "execution_count": 63,
     "metadata": {},
     "output_type": "execute_result"
    }
   ],
   "source": [
    "X_train.head()"
   ]
  },
  {
   "cell_type": "code",
   "execution_count": 64,
   "metadata": {},
   "outputs": [
    {
     "data": {
      "text/html": [
       "<div>\n",
       "<style scoped>\n",
       "    .dataframe tbody tr th:only-of-type {\n",
       "        vertical-align: middle;\n",
       "    }\n",
       "\n",
       "    .dataframe tbody tr th {\n",
       "        vertical-align: top;\n",
       "    }\n",
       "\n",
       "    .dataframe thead th {\n",
       "        text-align: right;\n",
       "    }\n",
       "</style>\n",
       "<table border=\"1\" class=\"dataframe\">\n",
       "  <thead>\n",
       "    <tr style=\"text-align: right;\">\n",
       "      <th></th>\n",
       "      <th>Age</th>\n",
       "      <th>Sex</th>\n",
       "      <th>ALB</th>\n",
       "      <th>ALP</th>\n",
       "      <th>AST</th>\n",
       "      <th>BIL</th>\n",
       "      <th>CHE</th>\n",
       "      <th>CHOL</th>\n",
       "      <th>CREA</th>\n",
       "      <th>CGT</th>\n",
       "      <th>PROT</th>\n",
       "      <th>ALT</th>\n",
       "    </tr>\n",
       "  </thead>\n",
       "  <tbody>\n",
       "    <tr>\n",
       "      <th>248</th>\n",
       "      <td>0.739916</td>\n",
       "      <td>1</td>\n",
       "      <td>-2.356918</td>\n",
       "      <td>-0.143405</td>\n",
       "      <td>-0.695268</td>\n",
       "      <td>-0.424021</td>\n",
       "      <td>-1.196326</td>\n",
       "      <td>-0.811931</td>\n",
       "      <td>-0.786594</td>\n",
       "      <td>-0.283817</td>\n",
       "      <td>-1.852933</td>\n",
       "      <td>-0.437562</td>\n",
       "    </tr>\n",
       "    <tr>\n",
       "      <th>365</th>\n",
       "      <td>-0.777860</td>\n",
       "      <td>0</td>\n",
       "      <td>-1.775204</td>\n",
       "      <td>1.064944</td>\n",
       "      <td>-0.717098</td>\n",
       "      <td>-0.443262</td>\n",
       "      <td>-1.039445</td>\n",
       "      <td>0.026495</td>\n",
       "      <td>-0.618680</td>\n",
       "      <td>-0.328066</td>\n",
       "      <td>-0.016246</td>\n",
       "      <td>-0.437562</td>\n",
       "    </tr>\n",
       "    <tr>\n",
       "      <th>432</th>\n",
       "      <td>0.075889</td>\n",
       "      <td>0</td>\n",
       "      <td>0.393002</td>\n",
       "      <td>-0.602876</td>\n",
       "      <td>-0.311053</td>\n",
       "      <td>-0.169067</td>\n",
       "      <td>-0.106642</td>\n",
       "      <td>0.100203</td>\n",
       "      <td>-0.842565</td>\n",
       "      <td>-0.455449</td>\n",
       "      <td>0.132173</td>\n",
       "      <td>-0.412704</td>\n",
       "    </tr>\n",
       "    <tr>\n",
       "      <th>610</th>\n",
       "      <td>1.403943</td>\n",
       "      <td>0</td>\n",
       "      <td>-1.669438</td>\n",
       "      <td>10.331936</td>\n",
       "      <td>3.356450</td>\n",
       "      <td>1.846506</td>\n",
       "      <td>-1.200566</td>\n",
       "      <td>0.947842</td>\n",
       "      <td>-1.307127</td>\n",
       "      <td>8.092654</td>\n",
       "      <td>-0.721237</td>\n",
       "      <td>-0.817538</td>\n",
       "    </tr>\n",
       "    <tr>\n",
       "      <th>132</th>\n",
       "      <td>-0.303555</td>\n",
       "      <td>1</td>\n",
       "      <td>-1.052469</td>\n",
       "      <td>0.339934</td>\n",
       "      <td>-0.171339</td>\n",
       "      <td>-0.250845</td>\n",
       "      <td>0.173199</td>\n",
       "      <td>1.270314</td>\n",
       "      <td>0.220890</td>\n",
       "      <td>-0.311975</td>\n",
       "      <td>-0.813999</td>\n",
       "      <td>-0.050484</td>\n",
       "    </tr>\n",
       "  </tbody>\n",
       "</table>\n",
       "</div>"
      ],
      "text/plain": [
       "          Age  Sex       ALB        ALP       AST       BIL       CHE  \\\n",
       "248  0.739916    1 -2.356918  -0.143405 -0.695268 -0.424021 -1.196326   \n",
       "365 -0.777860    0 -1.775204   1.064944 -0.717098 -0.443262 -1.039445   \n",
       "432  0.075889    0  0.393002  -0.602876 -0.311053 -0.169067 -0.106642   \n",
       "610  1.403943    0 -1.669438  10.331936  3.356450  1.846506 -1.200566   \n",
       "132 -0.303555    1 -1.052469   0.339934 -0.171339 -0.250845  0.173199   \n",
       "\n",
       "         CHOL      CREA       CGT      PROT       ALT  \n",
       "248 -0.811931 -0.786594 -0.283817 -1.852933 -0.437562  \n",
       "365  0.026495 -0.618680 -0.328066 -0.016246 -0.437562  \n",
       "432  0.100203 -0.842565 -0.455449  0.132173 -0.412704  \n",
       "610  0.947842 -1.307127  8.092654 -0.721237 -0.817538  \n",
       "132  1.270314  0.220890 -0.311975 -0.813999 -0.050484  "
      ]
     },
     "execution_count": 64,
     "metadata": {},
     "output_type": "execute_result"
    }
   ],
   "source": [
    "X_test.iloc[:, X_test.columns!='Sex'] = normalize_columns(X_test.iloc[:, X_test.columns!='Sex'])\n",
    "X_test.head()"
   ]
  },
  {
   "cell_type": "code",
   "execution_count": 73,
   "metadata": {},
   "outputs": [],
   "source": [
    "# the general function for model training\n",
    "# input: model, training sets, testing sets, model name\n",
    "def model_training(model, X_train, y_train, X_test, y_test, model_name):\n",
    "    print(f\"Train data using {model_name}...\")\n",
    "    model.fit(X_train, y_train)\n",
    "    y_pred = model.predict(X_test)\n",
    "    # validate via accuracy score and classification report\n",
    "    accuracy = accuracy_score(y_test, y_pred)\n",
    "    report = classification_report(y_test, y_pred)\n",
    "    print(\"The classification report is as follows:\")\n",
    "    print(report)\n",
    "    print()\n",
    "    print(f\"The accuracy score of this model is {accuracy:.4f}\")\n",
    "    print()\n",
    "    print(\"The confusion matrix on testing data is as follows:\")\n",
    "    cm = confusion_matrix(y_test, y_pred)\n",
    "    print(cm)\n",
    "\n",
    "    # return the trained model\n",
    "    return model, cm"
   ]
  },
  {
   "cell_type": "code",
   "execution_count": 46,
   "metadata": {},
   "outputs": [],
   "source": [
    "from sklearn.model_selection import GridSearchCV\n",
    "from tqdm import tqdm"
   ]
  },
  {
   "cell_type": "code",
   "execution_count": 47,
   "metadata": {},
   "outputs": [],
   "source": [
    "# Hyperparameter grids\n",
    "logistic_params = {\n",
    "    'C': [0.001, 0.01, 0.1, 1, 10],\n",
    "    'penalty': ['l1', 'l2']\n",
    "}\n",
    "\n",
    "rf_params = {\n",
    "    'n_estimators': [50, 100, 200],\n",
    "    'max_depth': [None, 10, 20, 30],\n",
    "    'min_samples_split': [2, 5, 10]\n",
    "}\n",
    "\n",
    "xgb_params = {\n",
    "    'n_estimators': [50, 100, 200],\n",
    "    'learning_rate': [0.01, 0.05, 0.1],\n",
    "    'max_depth': [3, 4, 5, 6]\n",
    "}"
   ]
  },
  {
   "cell_type": "code",
   "execution_count": 51,
   "metadata": {},
   "outputs": [],
   "source": [
    "# Models\n",
    "models = {\n",
    "    'Logistic Regression': LogisticRegression(solver = 'liblinear'),\n",
    "    'Random Forest': RandomForestClassifier(),\n",
    "    'XGBoost': xgb.XGBClassifier()\n",
    "}\n",
    "\n",
    "# Hyperparameter grids\n",
    "param_grids = {\n",
    "    'Logistic Regression': logistic_params,\n",
    "    'Random Forest': rf_params,\n",
    "    'XGBoost': xgb_params\n",
    "}"
   ]
  },
  {
   "cell_type": "code",
   "execution_count": 65,
   "metadata": {},
   "outputs": [
    {
     "name": "stderr",
     "output_type": "stream",
     "text": [
      "  0%|          | 0/10 [00:00<?, ?it/s]"
     ]
    },
    {
     "name": "stdout",
     "output_type": "stream",
     "text": [
      "Fitting 5 folds for each of 10 candidates, totalling 50 fits\n"
     ]
    },
    {
     "name": "stderr",
     "output_type": "stream",
     "text": [
      "/Users/cynthia/anaconda3/lib/python3.10/site-packages/sklearn/model_selection/_split.py:700: UserWarning: The least populated class in y has only 4 members, which is less than n_splits=5.\n",
      "  warnings.warn(\n",
      " 10%|█         | 1/10 [00:01<00:15,  1.69s/it]/Users/cynthia/anaconda3/lib/python3.10/site-packages/sklearn/model_selection/_split.py:700: UserWarning: The least populated class in y has only 4 members, which is less than n_splits=5.\n",
      "  warnings.warn(\n",
      " 20%|██        | 2/10 [00:01<00:07,  1.14it/s]\n"
     ]
    },
    {
     "name": "stdout",
     "output_type": "stream",
     "text": [
      "Fitting 5 folds for each of 10 candidates, totalling 50 fits\n",
      "Logistic Regression - Best Parameters: {'C': 1, 'penalty': 'l1'}\n",
      "Logistic Regression - Test Accuracy: 0.8649\n"
     ]
    },
    {
     "name": "stderr",
     "output_type": "stream",
     "text": [
      "  0%|          | 0/15 [00:00<?, ?it/s]/Users/cynthia/anaconda3/lib/python3.10/site-packages/sklearn/model_selection/_split.py:700: UserWarning: The least populated class in y has only 4 members, which is less than n_splits=5.\n",
      "  warnings.warn(\n"
     ]
    },
    {
     "name": "stdout",
     "output_type": "stream",
     "text": [
      "Fitting 5 folds for each of 36 candidates, totalling 180 fits\n"
     ]
    },
    {
     "name": "stderr",
     "output_type": "stream",
     "text": [
      "  7%|▋         | 1/15 [00:02<00:40,  2.93s/it]/Users/cynthia/anaconda3/lib/python3.10/site-packages/sklearn/model_selection/_split.py:700: UserWarning: The least populated class in y has only 4 members, which is less than n_splits=5.\n",
      "  warnings.warn(\n"
     ]
    },
    {
     "name": "stdout",
     "output_type": "stream",
     "text": [
      "Fitting 5 folds for each of 36 candidates, totalling 180 fits\n"
     ]
    },
    {
     "name": "stderr",
     "output_type": "stream",
     "text": [
      " 13%|█▎        | 2/15 [00:05<00:34,  2.63s/it]/Users/cynthia/anaconda3/lib/python3.10/site-packages/sklearn/model_selection/_split.py:700: UserWarning: The least populated class in y has only 4 members, which is less than n_splits=5.\n",
      "  warnings.warn(\n"
     ]
    },
    {
     "name": "stdout",
     "output_type": "stream",
     "text": [
      "Fitting 5 folds for each of 36 candidates, totalling 180 fits\n"
     ]
    },
    {
     "name": "stderr",
     "output_type": "stream",
     "text": [
      " 20%|██        | 3/15 [00:07<00:31,  2.59s/it]\n"
     ]
    },
    {
     "name": "stdout",
     "output_type": "stream",
     "text": [
      "Random Forest - Best Parameters: {'max_depth': 20, 'min_samples_split': 2, 'n_estimators': 200}\n",
      "Random Forest - Test Accuracy: 0.8919\n"
     ]
    },
    {
     "name": "stderr",
     "output_type": "stream",
     "text": [
      "  0%|          | 0/15 [00:00<?, ?it/s]"
     ]
    },
    {
     "name": "stdout",
     "output_type": "stream",
     "text": [
      "Fitting 5 folds for each of 36 candidates, totalling 180 fits\n"
     ]
    },
    {
     "name": "stderr",
     "output_type": "stream",
     "text": [
      "/Users/cynthia/anaconda3/lib/python3.10/site-packages/sklearn/model_selection/_split.py:700: UserWarning: The least populated class in y has only 4 members, which is less than n_splits=5.\n",
      "  warnings.warn(\n",
      "  7%|▋         | 1/15 [00:02<00:28,  2.07s/it]/Users/cynthia/anaconda3/lib/python3.10/site-packages/sklearn/model_selection/_split.py:700: UserWarning: The least populated class in y has only 4 members, which is less than n_splits=5.\n",
      "  warnings.warn(\n"
     ]
    },
    {
     "name": "stdout",
     "output_type": "stream",
     "text": [
      "Fitting 5 folds for each of 36 candidates, totalling 180 fits\n"
     ]
    },
    {
     "name": "stderr",
     "output_type": "stream",
     "text": [
      " 13%|█▎        | 2/15 [00:04<00:26,  2.05s/it]/Users/cynthia/anaconda3/lib/python3.10/site-packages/sklearn/model_selection/_split.py:700: UserWarning: The least populated class in y has only 4 members, which is less than n_splits=5.\n",
      "  warnings.warn(\n"
     ]
    },
    {
     "name": "stdout",
     "output_type": "stream",
     "text": [
      "Fitting 5 folds for each of 36 candidates, totalling 180 fits\n"
     ]
    },
    {
     "name": "stderr",
     "output_type": "stream",
     "text": [
      " 20%|██        | 3/15 [00:06<00:26,  2.18s/it]\n"
     ]
    },
    {
     "name": "stdout",
     "output_type": "stream",
     "text": [
      "XGBoost - Best Parameters: {'learning_rate': 0.05, 'max_depth': 4, 'n_estimators': 200}\n",
      "XGBoost - Test Accuracy: 0.8811\n"
     ]
    }
   ],
   "source": [
    "# use 5-fold validation for hyperparameter tuning\n",
    "# finally predict on test set\n",
    "best_params = {}\n",
    "for name, model in models.items():\n",
    "    # this phase selects the best hyperparameters for each model\n",
    "    grid_search = GridSearchCV(model, param_grids[name], cv = 5, scoring='accuracy', verbose=1, n_jobs=-1)\n",
    "    total_fits = len(grid_search.param_grid) * grid_search.cv\n",
    "    for params in tqdm(grid_search.param_grid, total=total_fits):\n",
    "        grid_search.fit(X_train, y_train)\n",
    "    best_params[name] = grid_search.best_params_\n",
    "\n",
    "    # Train model with best parameters on the combined training and validation set\n",
    "    best_model = models[name].set_params(**best_params[name])\n",
    "    best_model.fit(X_train, y_train)\n",
    "\n",
    "    # Predict on test set\n",
    "    # this phase evaluates the best model on the test set\n",
    "    predictions = best_model.predict(X_test)\n",
    "\n",
    "\n",
    "    # Compute accuracy\n",
    "    acc = accuracy_score(y_test, predictions)\n",
    "    print(f\"{name} - Best Parameters: {best_params[name]}\")\n",
    "    print(f\"{name} - Test Accuracy: {acc:.4f}\")"
   ]
  },
  {
   "cell_type": "code",
   "execution_count": 66,
   "metadata": {},
   "outputs": [],
   "source": [
    "# best parameters\n",
    "logistic_params_best = {'C': 1, 'penalty': 'l1'}\n",
    "\n",
    "rf_params_best = {'max_depth': 20, 'min_samples_split': 2, 'n_estimators': 200}\n",
    "\n",
    "xgb_params_best = {'learning_rate': 0.05, 'max_depth': 4, 'n_estimators': 200}"
   ]
  },
  {
   "cell_type": "code",
   "execution_count": 75,
   "metadata": {},
   "outputs": [
    {
     "name": "stdout",
     "output_type": "stream",
     "text": [
      "Train data using Logistic Regression...\n",
      "The classification report is as follows:\n",
      "              precision    recall  f1-score   support\n",
      "\n",
      "           0       0.88      0.99      0.94       153\n",
      "           1       0.50      0.33      0.40         3\n",
      "           2       0.00      0.00      0.00        10\n",
      "           3       0.33      0.12      0.18         8\n",
      "           4       0.75      0.55      0.63        11\n",
      "\n",
      "    accuracy                           0.86       185\n",
      "   macro avg       0.49      0.40      0.43       185\n",
      "weighted avg       0.80      0.86      0.83       185\n",
      "\n",
      "\n",
      "The accuracy score of this model is 0.8649\n",
      "\n",
      "The confusion matrix on testing data is as follows:\n",
      "[[152   1   0   0   0]\n",
      " [  1   1   0   0   1]\n",
      " [  8   0   0   1   1]\n",
      " [  7   0   0   1   0]\n",
      " [  4   0   0   1   6]]\n"
     ]
    },
    {
     "name": "stderr",
     "output_type": "stream",
     "text": [
      "/Users/cynthia/anaconda3/lib/python3.10/site-packages/sklearn/metrics/_classification.py:1344: UndefinedMetricWarning: Precision and F-score are ill-defined and being set to 0.0 in labels with no predicted samples. Use `zero_division` parameter to control this behavior.\n",
      "  _warn_prf(average, modifier, msg_start, len(result))\n",
      "/Users/cynthia/anaconda3/lib/python3.10/site-packages/sklearn/metrics/_classification.py:1344: UndefinedMetricWarning: Precision and F-score are ill-defined and being set to 0.0 in labels with no predicted samples. Use `zero_division` parameter to control this behavior.\n",
      "  _warn_prf(average, modifier, msg_start, len(result))\n",
      "/Users/cynthia/anaconda3/lib/python3.10/site-packages/sklearn/metrics/_classification.py:1344: UndefinedMetricWarning: Precision and F-score are ill-defined and being set to 0.0 in labels with no predicted samples. Use `zero_division` parameter to control this behavior.\n",
      "  _warn_prf(average, modifier, msg_start, len(result))\n"
     ]
    }
   ],
   "source": [
    "# logistic regression\n",
    "model_logreg = LogisticRegression(solver='liblinear')\n",
    "model_logreg.set_params(**logistic_params_best)\n",
    "model_name = \"Logistic Regression\"\n",
    "model_logreg, cm_logreg = model_training(model_logreg, X_train, y_train, X_test, y_test, model_name)"
   ]
  },
  {
   "cell_type": "code",
   "execution_count": 77,
   "metadata": {},
   "outputs": [
    {
     "data": {
      "text/plain": [
       "Text(0.5, 1.0, 'Confusion Matrix (Logistic Regression)')"
      ]
     },
     "execution_count": 77,
     "metadata": {},
     "output_type": "execute_result"
    },
    {
     "data": {
      "image/png": "[encoded data removed]",
      "text/plain": [
       "<Figure size 640x480 with 2 Axes>"
      ]
     },
     "metadata": {},
     "output_type": "display_data"
    }
   ],
   "source": [
    "cmd_logreg = ConfusionMatrixDisplay(cm_logreg)\n",
    "cmd_logreg.plot()\n",
    "plt.title('Confusion Matrix (Logistic Regression)')\n",
    "# file_path = \"/Users/cynthia/Desktop/BIS634_CMHI/BIS634_HW/BIS634_HW4/figures/\"\n",
    "# file_path += 'ex2__cm_1.jpg'\n",
    "# plt.savefig(file_path)"
   ]
  },
  {
   "cell_type": "code",
   "execution_count": 78,
   "metadata": {},
   "outputs": [
    {
     "name": "stdout",
     "output_type": "stream",
     "text": [
      "Train data using XGBoost...\n",
      "The classification report is as follows:\n",
      "              precision    recall  f1-score   support\n",
      "\n",
      "           0       0.92      0.99      0.96       153\n",
      "           1       0.50      0.33      0.40         3\n",
      "           2       1.00      0.20      0.33        10\n",
      "           3       0.14      0.12      0.13         8\n",
      "           4       0.78      0.64      0.70        11\n",
      "\n",
      "    accuracy                           0.88       185\n",
      "   macro avg       0.67      0.46      0.50       185\n",
      "weighted avg       0.88      0.88      0.86       185\n",
      "\n",
      "\n",
      "The accuracy score of this model is 0.8811\n",
      "\n",
      "The confusion matrix on testing data is as follows:\n",
      "[[152   1   0   0   0]\n",
      " [  1   1   0   0   1]\n",
      " [  4   0   2   3   1]\n",
      " [  7   0   0   1   0]\n",
      " [  1   0   0   3   7]]\n"
     ]
    }
   ],
   "source": [
    "# XGBoost\n",
    "model_xgb = xgb.XGBClassifier()\n",
    "model_xgb.set_params(**xgb_params_best)\n",
    "model_name = \"XGBoost\"\n",
    "model_xgb, cm_xgb = model_training(model_xgb, X_train, y_train, X_test, y_test, model_name)"
   ]
  },
  {
   "cell_type": "code",
   "execution_count": 79,
   "metadata": {},
   "outputs": [
    {
     "data": {
      "text/plain": [
       "Text(0.5, 1.0, 'Confusion Matrix (XGBoost)')"
      ]
     },
     "execution_count": 79,
     "metadata": {},
     "output_type": "execute_result"
    },
    {
     "data": {
      "image/png": "[encoded data removed]",
      "text/plain": [
       "<Figure size 640x480 with 2 Axes>"
      ]
     },
     "metadata": {},
     "output_type": "display_data"
    }
   ],
   "source": [
    "cmd_xgb = ConfusionMatrixDisplay(cm_xgb)\n",
    "cmd_xgb.plot()\n",
    "plt.title('Confusion Matrix (XGBoost)')\n",
    "# file_path = \"/Users/cynthia/Desktop/BIS634_CMHI/BIS634_HW/BIS634_HW4/figures/\"\n",
    "# file_path += 'ex2__cm_1.jpg'\n",
    "# plt.savefig(file_path)"
   ]
  },
  {
   "cell_type": "code",
   "execution_count": 80,
   "metadata": {},
   "outputs": [
    {
     "name": "stdout",
     "output_type": "stream",
     "text": [
      "Train data using Random Forest...\n",
      "The classification report is as follows:\n",
      "              precision    recall  f1-score   support\n",
      "\n",
      "           0       0.91      0.99      0.95       153\n",
      "           1       0.00      0.00      0.00         3\n",
      "           2       1.00      0.10      0.18        10\n",
      "           3       0.43      0.38      0.40         8\n",
      "           4       0.89      0.73      0.80        11\n",
      "\n",
      "    accuracy                           0.89       185\n",
      "   macro avg       0.65      0.44      0.47       185\n",
      "weighted avg       0.88      0.89      0.86       185\n",
      "\n",
      "\n",
      "The accuracy score of this model is 0.8865\n",
      "\n",
      "The confusion matrix on testing data is as follows:\n",
      "[[152   1   0   0   0]\n",
      " [  3   0   0   0   0]\n",
      " [  5   0   1   3   1]\n",
      " [  5   0   0   3   0]\n",
      " [  2   0   0   1   8]]\n"
     ]
    }
   ],
   "source": [
    "# random forest\n",
    "model_rf = RandomForestClassifier()\n",
    "model_rf.set_params(**rf_params_best)\n",
    "model_name = \"Random Forest\"\n",
    "model_rf, cm_rf = model_training(model_rf, X_train, y_train, X_test, y_test, model_name)"
   ]
  },
  {
   "cell_type": "code",
   "execution_count": 81,
   "metadata": {},
   "outputs": [
    {
     "data": {
      "text/plain": [
       "Text(0.5, 1.0, 'Confusion Matrix (Random Forest)')"
      ]
     },
     "execution_count": 81,
     "metadata": {},
     "output_type": "execute_result"
    },
    {
     "data": {
      "image/png": "[encoded data removed]",
      "text/plain": [
       "<Figure size 640x480 with 2 Axes>"
      ]
     },
     "metadata": {},
     "output_type": "display_data"
    }
   ],
   "source": [
    "cmd_rf = ConfusionMatrixDisplay(cm_rf)\n",
    "cmd_rf.plot()\n",
    "plt.title('Confusion Matrix (Random Forest)')"
   ]
  },
  {
   "cell_type": "code",
   "execution_count": null,
   "metadata": {},
   "outputs": [],
   "source": []
  }
 ],
 "metadata": {
  "kernelspec": {
   "display_name": "base",
   "language": "python",
   "name": "python3"
  },
  "language_info": {
   "codemirror_mode": {
    "name": "ipython",
    "version": 3
   },
   "file_extension": ".py",
   "mimetype": "text/x-python",
   "name": "python",
   "nbconvert_exporter": "python",
   "pygments_lexer": "ipython3",
   "version": "3.10.9"
  }
 },
 "nbformat": 4,
 "nbformat_minor": 2
}
